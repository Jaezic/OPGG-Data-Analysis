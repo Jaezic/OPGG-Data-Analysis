{
 "cells": [
  {
   "cell_type": "code",
   "execution_count": 64,
   "metadata": {},
   "outputs": [],
   "source": [
    "from urllib.request import Request, urlopen\n",
    "from bs4 import BeautifulSoup\n",
    "import pandas as pd\n",
    "\n",
    "df = pd.DataFrame(columns=['Rank', 'Summoner', 'Tier', 'LP', \"Most Champ\", 'Wins', 'Losses', 'Win Ratio'])\n",
    "\n",
    "for i in range(20):\n",
    "    url = f\"https://www.op.gg/leaderboards/tier?page={i}\"\n",
    "\n",
    "    req = Request(url, headers={'User-Agent': 'Mozilla/5.0'})\n",
    "\n",
    "    webpage = urlopen(req).read()\n",
    "\n",
    "    soup = BeautifulSoup(webpage, \"html.parser\")\n",
    "\n",
    "    tables = soup.select(\"#content-container > div.css-1v7j0iq.ejdc9qj2 > table > tbody > tr\")\n",
    "\n",
    "    for raw in tables:\n",
    "        rank = raw.find(\"td\", class_=\"css-1gozr20 euud7vz1\").text\n",
    "        name = raw.find(\"td\", class_=\"css-ql65ui euud7vz2\").text\n",
    "        tier = raw.find(\"td\", class_=\"css-13jn5d5 euud7vz3\").text\n",
    "        lp = raw.find(\"td\", class_=\"css-1oruqdu euud7vz4\").text.split(\"LP\")[0].strip()\n",
    "        most_champs_tags = raw.find(\"td\", class_=\"css-624em4 euud7vz7\")\n",
    "\n",
    "        most_champs = []\n",
    "        for champ in most_champs_tags:\n",
    "            most_champs.append(champ.attrs[\"href\"].split(\"/\")[2])\n",
    "\n",
    "        level = raw.find(\"td\", class_=\"css-139lfew euud7vz5\").text\n",
    "        \n",
    "        win_rate_tags = raw.find(\"td\", class_=\"css-1ex2x1n euud7vz6\")\n",
    "\n",
    "        win = win_rate_tags.find(\"div\", class_=\"w\").text.split(\"W\")[0]\n",
    "        lose = win_rate_tags.find(\"div\", class_=\"l\").text.split(\"L\")[0]\n",
    "        win_rate = win_rate_tags.find(\"div\", class_=\"text\").text.split(\"%\")[0]\n",
    "\n",
    "        df.loc[len(df)] = [rank, name, tier, lp, most_champs, win, lose, win_rate]\n",
    "\n"
   ]
  },
  {
   "cell_type": "code",
   "execution_count": 66,
   "metadata": {},
   "outputs": [],
   "source": [
    "df.to_csv(\"opgg.csv\", index=False)"
   ]
  }
 ],
 "metadata": {
  "kernelspec": {
   "display_name": "base",
   "language": "python",
   "name": "python3"
  },
  "language_info": {
   "codemirror_mode": {
    "name": "ipython",
    "version": 3
   },
   "file_extension": ".py",
   "mimetype": "text/x-python",
   "name": "python",
   "nbconvert_exporter": "python",
   "pygments_lexer": "ipython3",
   "version": "3.9.13"
  }
 },
 "nbformat": 4,
 "nbformat_minor": 2
}
